{
 "cells": [
  {
   "cell_type": "code",
   "execution_count": 1,
   "id": "1d92b75e-cde9-4f65-8dc1-fcd04d49c9e3",
   "metadata": {},
   "outputs": [],
   "source": [
    "# Initializing variables\n",
    "total_months = 0\n",
    "previous_net = 0\n",
    "net_total = 0\n",
    "average_change = 0\n",
    "greatest_increase_profits = 0\n",
    "greastest_increase_month = ''\n",
    "greatest_decrease_profits = 0\n",
    "greatest_decrease_month = ''"
   ]
  },
  {
   "cell_type": "code",
   "execution_count": 2,
   "id": "511f0120-3a89-4585-865f-532bad78e059",
   "metadata": {},
   "outputs": [],
   "source": [
    "# Initializing list\n",
    "net_change_list = []\n",
    "month_change = []"
   ]
  },
  {
   "cell_type": "code",
   "execution_count": 3,
   "id": "e7365d2f-2ac8-4ec2-b591-3f7d588633e9",
   "metadata": {},
   "outputs": [],
   "source": [
    "# Import the pathlib and csv file\n",
    "from pathlib import Path\n",
    "import csv"
   ]
  },
  {
   "cell_type": "code",
   "execution_count": 4,
   "id": "45fb21e0-e3b2-4344-bef9-96303b76a41b",
   "metadata": {},
   "outputs": [],
   "source": [
    "# Importing the CSV file from the Resources Folder\n",
    "csvpath = Path('Resources/budget_data.csv')\n",
    "csvpath_output = Path('Resources/Results.txt')"
   ]
  },
  {
   "cell_type": "code",
   "execution_count": 5,
   "id": "7501b6dd-b796-425a-9ce6-55e1086f9eb0",
   "metadata": {},
   "outputs": [],
   "source": [
    "# Opening csvfile\n",
    "with open(csvpath, 'r') as csvfile:\n",
    "# Pass in the csv file to the csv.reader() function\n",
    "    csvreader = csv.reader(csvfile, delimiter=',')\n",
    "# Go to the next row from the start of the file\n",
    "    header = next(csvreader)\n",
    "    first_row = next(csvreader)\n",
    "# Counting the first month\n",
    "    total_months = total_months + 1  \n",
    "# Assigning the net total to the first value \n",
    "    net_total = net_total + int(first_row[1])  \n",
    "# Assigning the previous net\n",
    "    previous_net = int(first_row[1])\n",
    "    \n",
    "# For loop to calculate the total number of months and net total\n",
    "    for x in csvreader:   \n",
    "        \n",
    "        total_months = total_months + 1\n",
    "        net_total = net_total + int(x[1]) \n",
    "        \n",
    "# Calculating the net change by using previous net    \n",
    "        net_change = int(x[1]) - previous_net\n",
    "        previous_net = int(x[1])\n",
    "\n",
    "# Adding values to list\n",
    "        net_change_list = net_change_list + [net_change]\n",
    "        month_change = month_change + [x[0]]\n",
    "        \n",
    "# Determining the month at which there was the greatest increase in profits (using the maximum function)\n",
    "greatest_increase_profits = max(net_change_list)\n",
    "greatest_increase_month = month_change[net_change_list.index(greatest_increase_profits)]\n",
    "\n",
    "# Determining the month at which there was the greatest decrease in profits (using the minimum function)\n",
    "greatest_decrease_profits = min(net_change_list)\n",
    "greatest_decrease_month = month_change[net_change_list.index(greatest_decrease_profits)]\n",
    "\n",
    "# Calculating the average change\n",
    "average_change = sum(net_change_list) / len(net_change_list) \n",
    "average_change = round((average_change),2)"
   ]
  },
  {
   "cell_type": "code",
   "execution_count": 6,
   "id": "d15b82cd-17a9-4db1-8d98-1c9543f87159",
   "metadata": {},
   "outputs": [
    {
     "name": "stdout",
     "output_type": "stream",
     "text": [
      "Financial Analysis\n",
      "--------------------------------\n",
      "Total Months: 86\n",
      "Total: $38382578\n",
      "Average Change: $-2315.12\n",
      "Greatest Increase in Profits: Feb-2012 $1926159\n",
      "Greatest Decrease in Profits: Sep-2013 $-2196167\n"
     ]
    }
   ],
   "source": [
    "# Print to Terminal\n",
    "print(\"Financial Analysis\")\n",
    "print(\"--------------------------------\")\n",
    "print(\"Total Months: \" + str(total_months))\n",
    "print(\"Total: $\" + str(net_total))\n",
    "print(\"Average Change: $\" + str(average_change))\n",
    "print(\"Greatest Increase in Profits: \" + (greatest_increase_month)  + \" $\" + str(greatest_increase_profits))\n",
    "print(\"Greatest Decrease in Profits: \" + (greatest_decrease_month) + \" $\" + str(greatest_decrease_profits))"
   ]
  },
  {
   "cell_type": "code",
   "execution_count": 7,
   "id": "34dedc1d-1ddf-47e5-b802-1b13c4080cd3",
   "metadata": {},
   "outputs": [],
   "source": [
    "with open(csvpath_output, 'w') as txt_file:\n",
    "    txt_file.write(\"Financial Analysis\\n\") \n",
    "    txt_file.write(\"-----------------------------------\\n\")\n",
    "    txt_file.write(\"Total months: \" + str(total_months) + \"\\n\")\n",
    "    txt_file.write(\"Total: \" + \"$\" + str(net_total) + \"\\n\") \n",
    "    txt_file.write(\"Average Change: \" + \"$\" + str(average_change) + \"\\n\")\n",
    "    txt_file.write(\"Greatest Increase in Profits: \" + (greatest_increase_month) + \" $\" + str(greatest_increase_profits) + \"\\n\")\n",
    "    txt_file.write(\"Greatest Decrease in Profits: \" + (greatest_decrease_month) + \" $\" + str(greatest_decrease_profits) + \"\\n\")"
   ]
  }
 ],
 "metadata": {
  "kernelspec": {
   "display_name": "Python 3 (ipykernel)",
   "language": "python",
   "name": "python3"
  },
  "language_info": {
   "codemirror_mode": {
    "name": "ipython",
    "version": 3
   },
   "file_extension": ".py",
   "mimetype": "text/x-python",
   "name": "python",
   "nbconvert_exporter": "python",
   "pygments_lexer": "ipython3",
   "version": "3.10.11"
  }
 },
 "nbformat": 4,
 "nbformat_minor": 5
}
